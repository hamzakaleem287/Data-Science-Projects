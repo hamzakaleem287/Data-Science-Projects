{
 "cells": [
  {
   "cell_type": "markdown",
   "id": "568bbd69-f740-4d06-97db-ccdcfeca226c",
   "metadata": {},
   "source": [
    "### Importing the Required Libraries & Dataset"
   ]
  },
  {
   "cell_type": "code",
   "execution_count": 1,
   "id": "71aa7fe4-f575-4d8f-ac09-106402454f10",
   "metadata": {},
   "outputs": [],
   "source": [
    "import pandas as pd\n",
    "import numpy as np\n",
    "import matplotlib.pyplot as plt\n",
    "import seaborn as sns"
   ]
  },
  {
   "cell_type": "code",
   "execution_count": 2,
   "id": "c63bd6d0-e671-423d-ac87-5b03fc28f434",
   "metadata": {},
   "outputs": [],
   "source": [
    "data=pd.read_csv(\"survey_results_public.csv\")"
   ]
  },
  {
   "cell_type": "markdown",
   "id": "72f0afc7-e1ed-43df-857e-135a78204ba9",
   "metadata": {},
   "source": [
    "### Displaying the Top 5 Rows of the Dataset"
   ]
  },
  {
   "cell_type": "code",
   "execution_count": 3,
   "id": "28e326ff-d2e8-4e82-a79d-01b6e8d2965f",
   "metadata": {},
   "outputs": [
    {
     "data": {
      "text/html": [
       "<div>\n",
       "<style scoped>\n",
       "    .dataframe tbody tr th:only-of-type {\n",
       "        vertical-align: middle;\n",
       "    }\n",
       "\n",
       "    .dataframe tbody tr th {\n",
       "        vertical-align: top;\n",
       "    }\n",
       "\n",
       "    .dataframe thead th {\n",
       "        text-align: right;\n",
       "    }\n",
       "</style>\n",
       "<table border=\"1\" class=\"dataframe\">\n",
       "  <thead>\n",
       "    <tr style=\"text-align: right;\">\n",
       "      <th></th>\n",
       "      <th>Respondent</th>\n",
       "      <th>MainBranch</th>\n",
       "      <th>Hobbyist</th>\n",
       "      <th>Age</th>\n",
       "      <th>Age1stCode</th>\n",
       "      <th>CompFreq</th>\n",
       "      <th>CompTotal</th>\n",
       "      <th>ConvertedComp</th>\n",
       "      <th>Country</th>\n",
       "      <th>CurrencyDesc</th>\n",
       "      <th>...</th>\n",
       "      <th>SurveyEase</th>\n",
       "      <th>SurveyLength</th>\n",
       "      <th>Trans</th>\n",
       "      <th>UndergradMajor</th>\n",
       "      <th>WebframeDesireNextYear</th>\n",
       "      <th>WebframeWorkedWith</th>\n",
       "      <th>WelcomeChange</th>\n",
       "      <th>WorkWeekHrs</th>\n",
       "      <th>YearsCode</th>\n",
       "      <th>YearsCodePro</th>\n",
       "    </tr>\n",
       "  </thead>\n",
       "  <tbody>\n",
       "    <tr>\n",
       "      <th>0</th>\n",
       "      <td>1</td>\n",
       "      <td>I am a developer by profession</td>\n",
       "      <td>Yes</td>\n",
       "      <td>NaN</td>\n",
       "      <td>13</td>\n",
       "      <td>Monthly</td>\n",
       "      <td>NaN</td>\n",
       "      <td>NaN</td>\n",
       "      <td>Germany</td>\n",
       "      <td>European Euro</td>\n",
       "      <td>...</td>\n",
       "      <td>Neither easy nor difficult</td>\n",
       "      <td>Appropriate in length</td>\n",
       "      <td>No</td>\n",
       "      <td>Computer science, computer engineering, or sof...</td>\n",
       "      <td>ASP.NET Core</td>\n",
       "      <td>ASP.NET;ASP.NET Core</td>\n",
       "      <td>Just as welcome now as I felt last year</td>\n",
       "      <td>50.0</td>\n",
       "      <td>36</td>\n",
       "      <td>27</td>\n",
       "    </tr>\n",
       "    <tr>\n",
       "      <th>1</th>\n",
       "      <td>2</td>\n",
       "      <td>I am a developer by profession</td>\n",
       "      <td>No</td>\n",
       "      <td>NaN</td>\n",
       "      <td>19</td>\n",
       "      <td>NaN</td>\n",
       "      <td>NaN</td>\n",
       "      <td>NaN</td>\n",
       "      <td>United Kingdom</td>\n",
       "      <td>Pound sterling</td>\n",
       "      <td>...</td>\n",
       "      <td>NaN</td>\n",
       "      <td>NaN</td>\n",
       "      <td>NaN</td>\n",
       "      <td>Computer science, computer engineering, or sof...</td>\n",
       "      <td>NaN</td>\n",
       "      <td>NaN</td>\n",
       "      <td>Somewhat more welcome now than last year</td>\n",
       "      <td>NaN</td>\n",
       "      <td>7</td>\n",
       "      <td>4</td>\n",
       "    </tr>\n",
       "  </tbody>\n",
       "</table>\n",
       "<p>2 rows × 61 columns</p>\n",
       "</div>"
      ],
      "text/plain": [
       "   Respondent                      MainBranch Hobbyist  Age Age1stCode  \\\n",
       "0           1  I am a developer by profession      Yes  NaN         13   \n",
       "1           2  I am a developer by profession       No  NaN         19   \n",
       "\n",
       "  CompFreq  CompTotal  ConvertedComp         Country    CurrencyDesc  ...  \\\n",
       "0  Monthly        NaN            NaN         Germany   European Euro  ...   \n",
       "1      NaN        NaN            NaN  United Kingdom  Pound sterling  ...   \n",
       "\n",
       "                   SurveyEase           SurveyLength Trans  \\\n",
       "0  Neither easy nor difficult  Appropriate in length    No   \n",
       "1                         NaN                    NaN   NaN   \n",
       "\n",
       "                                      UndergradMajor WebframeDesireNextYear  \\\n",
       "0  Computer science, computer engineering, or sof...           ASP.NET Core   \n",
       "1  Computer science, computer engineering, or sof...                    NaN   \n",
       "\n",
       "     WebframeWorkedWith                             WelcomeChange WorkWeekHrs  \\\n",
       "0  ASP.NET;ASP.NET Core   Just as welcome now as I felt last year        50.0   \n",
       "1                   NaN  Somewhat more welcome now than last year         NaN   \n",
       "\n",
       "  YearsCode YearsCodePro  \n",
       "0        36           27  \n",
       "1         7            4  \n",
       "\n",
       "[2 rows x 61 columns]"
      ]
     },
     "execution_count": 3,
     "metadata": {},
     "output_type": "execute_result"
    }
   ],
   "source": [
    "data.head(2)"
   ]
  },
  {
   "cell_type": "markdown",
   "id": "2413138c-364b-481f-8f4c-0abda8e45606",
   "metadata": {},
   "source": [
    "### Retaining Only Necessary Columns"
   ]
  },
  {
   "cell_type": "code",
   "execution_count": 4,
   "id": "ad6bf244-f426-40f1-bab7-14318866e52f",
   "metadata": {},
   "outputs": [
    {
     "data": {
      "text/plain": [
       "Index(['Respondent', 'MainBranch', 'Hobbyist', 'Age', 'Age1stCode', 'CompFreq',\n",
       "       'CompTotal', 'ConvertedComp', 'Country', 'CurrencyDesc',\n",
       "       'CurrencySymbol', 'DatabaseDesireNextYear', 'DatabaseWorkedWith',\n",
       "       'DevType', 'EdLevel', 'Employment', 'Ethnicity', 'Gender', 'JobFactors',\n",
       "       'JobSat', 'JobSeek', 'LanguageDesireNextYear', 'LanguageWorkedWith',\n",
       "       'MiscTechDesireNextYear', 'MiscTechWorkedWith',\n",
       "       'NEWCollabToolsDesireNextYear', 'NEWCollabToolsWorkedWith', 'NEWDevOps',\n",
       "       'NEWDevOpsImpt', 'NEWEdImpt', 'NEWJobHunt', 'NEWJobHuntResearch',\n",
       "       'NEWLearn', 'NEWOffTopic', 'NEWOnboardGood', 'NEWOtherComms',\n",
       "       'NEWOvertime', 'NEWPurchaseResearch', 'NEWPurpleLink', 'NEWSOSites',\n",
       "       'NEWStuck', 'OpSys', 'OrgSize', 'PlatformDesireNextYear',\n",
       "       'PlatformWorkedWith', 'PurchaseWhat', 'Sexuality', 'SOAccount',\n",
       "       'SOComm', 'SOPartFreq', 'SOVisitFreq', 'SurveyEase', 'SurveyLength',\n",
       "       'Trans', 'UndergradMajor', 'WebframeDesireNextYear',\n",
       "       'WebframeWorkedWith', 'WelcomeChange', 'WorkWeekHrs', 'YearsCode',\n",
       "       'YearsCodePro'],\n",
       "      dtype='object')"
      ]
     },
     "execution_count": 4,
     "metadata": {},
     "output_type": "execute_result"
    }
   ],
   "source": [
    "data.columns\n"
   ]
  },
  {
   "cell_type": "code",
   "execution_count": 5,
   "id": "982a3759-da2a-4141-8f79-97b47660f1c6",
   "metadata": {},
   "outputs": [],
   "source": [
    "data=data[[\"Country\",\"EdLevel\",\"YearsCodePro\",\"Employment\",\"ConvertedComp\"]]"
   ]
  },
  {
   "cell_type": "code",
   "execution_count": 6,
   "id": "e640d353-5644-4226-bb0c-301f0ad3d58e",
   "metadata": {},
   "outputs": [
    {
     "data": {
      "text/plain": [
       "Index(['Country', 'EdLevel', 'YearsCodePro', 'Employment', 'ConvertedComp'], dtype='object')"
      ]
     },
     "execution_count": 6,
     "metadata": {},
     "output_type": "execute_result"
    }
   ],
   "source": [
    "data.columns\n"
   ]
  },
  {
   "cell_type": "markdown",
   "id": "2bc80c99-3916-4f90-94b3-dc0b99138f92",
   "metadata": {},
   "source": [
    "### Keeping the Data of Only Full Time Employee"
   ]
  },
  {
   "cell_type": "code",
   "execution_count": 7,
   "id": "83c62974-4fc5-4533-9523-22f982cb46f6",
   "metadata": {},
   "outputs": [],
   "source": [
    "data=data[data[\"Employment\"]==\"Employed full-time\"]"
   ]
  },
  {
   "cell_type": "code",
   "execution_count": 8,
   "id": "b372b060-3368-458a-b145-db5418646a69",
   "metadata": {},
   "outputs": [],
   "source": [
    "data=data.drop(columns=[\"Employment\"],axis=1)"
   ]
  },
  {
   "cell_type": "code",
   "execution_count": 9,
   "id": "e009bb1d-4f91-4e08-9a75-087fddee4a95",
   "metadata": {},
   "outputs": [
    {
     "data": {
      "text/html": [
       "<div>\n",
       "<style scoped>\n",
       "    .dataframe tbody tr th:only-of-type {\n",
       "        vertical-align: middle;\n",
       "    }\n",
       "\n",
       "    .dataframe tbody tr th {\n",
       "        vertical-align: top;\n",
       "    }\n",
       "\n",
       "    .dataframe thead th {\n",
       "        text-align: right;\n",
       "    }\n",
       "</style>\n",
       "<table border=\"1\" class=\"dataframe\">\n",
       "  <thead>\n",
       "    <tr style=\"text-align: right;\">\n",
       "      <th></th>\n",
       "      <th>Country</th>\n",
       "      <th>EdLevel</th>\n",
       "      <th>YearsCodePro</th>\n",
       "      <th>ConvertedComp</th>\n",
       "    </tr>\n",
       "  </thead>\n",
       "  <tbody>\n",
       "    <tr>\n",
       "      <th>1</th>\n",
       "      <td>United Kingdom</td>\n",
       "      <td>Bachelor’s degree (B.A., B.S., B.Eng., etc.)</td>\n",
       "      <td>4</td>\n",
       "      <td>NaN</td>\n",
       "    </tr>\n",
       "    <tr>\n",
       "      <th>4</th>\n",
       "      <td>United States</td>\n",
       "      <td>Bachelor’s degree (B.A., B.S., B.Eng., etc.)</td>\n",
       "      <td>8</td>\n",
       "      <td>NaN</td>\n",
       "    </tr>\n",
       "    <tr>\n",
       "      <th>5</th>\n",
       "      <td>Germany</td>\n",
       "      <td>Secondary school (e.g. American high school, G...</td>\n",
       "      <td>4</td>\n",
       "      <td>NaN</td>\n",
       "    </tr>\n",
       "    <tr>\n",
       "      <th>6</th>\n",
       "      <td>India</td>\n",
       "      <td>Bachelor’s degree (B.A., B.S., B.Eng., etc.)</td>\n",
       "      <td>4</td>\n",
       "      <td>NaN</td>\n",
       "    </tr>\n",
       "    <tr>\n",
       "      <th>7</th>\n",
       "      <td>United States</td>\n",
       "      <td>Bachelor’s degree (B.A., B.S., B.Eng., etc.)</td>\n",
       "      <td>13</td>\n",
       "      <td>116000.0</td>\n",
       "    </tr>\n",
       "  </tbody>\n",
       "</table>\n",
       "</div>"
      ],
      "text/plain": [
       "          Country                                            EdLevel  \\\n",
       "1  United Kingdom       Bachelor’s degree (B.A., B.S., B.Eng., etc.)   \n",
       "4   United States       Bachelor’s degree (B.A., B.S., B.Eng., etc.)   \n",
       "5         Germany  Secondary school (e.g. American high school, G...   \n",
       "6           India       Bachelor’s degree (B.A., B.S., B.Eng., etc.)   \n",
       "7   United States       Bachelor’s degree (B.A., B.S., B.Eng., etc.)   \n",
       "\n",
       "  YearsCodePro  ConvertedComp  \n",
       "1            4            NaN  \n",
       "4            8            NaN  \n",
       "5            4            NaN  \n",
       "6            4            NaN  \n",
       "7           13       116000.0  "
      ]
     },
     "execution_count": 9,
     "metadata": {},
     "output_type": "execute_result"
    }
   ],
   "source": [
    "data.head()"
   ]
  },
  {
   "cell_type": "code",
   "execution_count": 10,
   "id": "befa43b9-3dfa-4432-9d1e-04dab64d23df",
   "metadata": {},
   "outputs": [],
   "source": [
    "data=data.rename({\"YearsCodePro\":\"Experience(Years)\",\"ConvertedComp\":\"Salary\"},axis=1)"
   ]
  },
  {
   "cell_type": "code",
   "execution_count": 11,
   "id": "5c4b59e8-aaac-4bb2-ae35-43872851bd2f",
   "metadata": {},
   "outputs": [
    {
     "data": {
      "text/html": [
       "<div>\n",
       "<style scoped>\n",
       "    .dataframe tbody tr th:only-of-type {\n",
       "        vertical-align: middle;\n",
       "    }\n",
       "\n",
       "    .dataframe tbody tr th {\n",
       "        vertical-align: top;\n",
       "    }\n",
       "\n",
       "    .dataframe thead th {\n",
       "        text-align: right;\n",
       "    }\n",
       "</style>\n",
       "<table border=\"1\" class=\"dataframe\">\n",
       "  <thead>\n",
       "    <tr style=\"text-align: right;\">\n",
       "      <th></th>\n",
       "      <th>Country</th>\n",
       "      <th>EdLevel</th>\n",
       "      <th>Experience(Years)</th>\n",
       "      <th>Salary</th>\n",
       "    </tr>\n",
       "  </thead>\n",
       "  <tbody>\n",
       "    <tr>\n",
       "      <th>1</th>\n",
       "      <td>United Kingdom</td>\n",
       "      <td>Bachelor’s degree (B.A., B.S., B.Eng., etc.)</td>\n",
       "      <td>4</td>\n",
       "      <td>NaN</td>\n",
       "    </tr>\n",
       "    <tr>\n",
       "      <th>4</th>\n",
       "      <td>United States</td>\n",
       "      <td>Bachelor’s degree (B.A., B.S., B.Eng., etc.)</td>\n",
       "      <td>8</td>\n",
       "      <td>NaN</td>\n",
       "    </tr>\n",
       "    <tr>\n",
       "      <th>5</th>\n",
       "      <td>Germany</td>\n",
       "      <td>Secondary school (e.g. American high school, G...</td>\n",
       "      <td>4</td>\n",
       "      <td>NaN</td>\n",
       "    </tr>\n",
       "    <tr>\n",
       "      <th>6</th>\n",
       "      <td>India</td>\n",
       "      <td>Bachelor’s degree (B.A., B.S., B.Eng., etc.)</td>\n",
       "      <td>4</td>\n",
       "      <td>NaN</td>\n",
       "    </tr>\n",
       "    <tr>\n",
       "      <th>7</th>\n",
       "      <td>United States</td>\n",
       "      <td>Bachelor’s degree (B.A., B.S., B.Eng., etc.)</td>\n",
       "      <td>13</td>\n",
       "      <td>116000.0</td>\n",
       "    </tr>\n",
       "  </tbody>\n",
       "</table>\n",
       "</div>"
      ],
      "text/plain": [
       "          Country                                            EdLevel  \\\n",
       "1  United Kingdom       Bachelor’s degree (B.A., B.S., B.Eng., etc.)   \n",
       "4   United States       Bachelor’s degree (B.A., B.S., B.Eng., etc.)   \n",
       "5         Germany  Secondary school (e.g. American high school, G...   \n",
       "6           India       Bachelor’s degree (B.A., B.S., B.Eng., etc.)   \n",
       "7   United States       Bachelor’s degree (B.A., B.S., B.Eng., etc.)   \n",
       "\n",
       "  Experience(Years)    Salary  \n",
       "1                 4       NaN  \n",
       "4                 8       NaN  \n",
       "5                 4       NaN  \n",
       "6                 4       NaN  \n",
       "7                13  116000.0  "
      ]
     },
     "execution_count": 11,
     "metadata": {},
     "output_type": "execute_result"
    }
   ],
   "source": [
    "data.head()"
   ]
  },
  {
   "cell_type": "code",
   "execution_count": 12,
   "id": "4e446324-a9ac-4a4d-951a-9f899ccb6ed7",
   "metadata": {},
   "outputs": [],
   "source": [
    "### Dropping the Missing Values"
   ]
  },
  {
   "cell_type": "code",
   "execution_count": 13,
   "id": "ebea671a-2060-4226-8fb1-b459417a7aa8",
   "metadata": {},
   "outputs": [],
   "source": [
    "data=data[data[\"Salary\"].notnull()]"
   ]
  },
  {
   "cell_type": "code",
   "execution_count": 14,
   "id": "dfdfabc9-9aa8-46a7-9345-08d54c07acf5",
   "metadata": {},
   "outputs": [
    {
     "data": {
      "text/html": [
       "<div>\n",
       "<style scoped>\n",
       "    .dataframe tbody tr th:only-of-type {\n",
       "        vertical-align: middle;\n",
       "    }\n",
       "\n",
       "    .dataframe tbody tr th {\n",
       "        vertical-align: top;\n",
       "    }\n",
       "\n",
       "    .dataframe thead th {\n",
       "        text-align: right;\n",
       "    }\n",
       "</style>\n",
       "<table border=\"1\" class=\"dataframe\">\n",
       "  <thead>\n",
       "    <tr style=\"text-align: right;\">\n",
       "      <th></th>\n",
       "      <th>Country</th>\n",
       "      <th>EdLevel</th>\n",
       "      <th>Experience(Years)</th>\n",
       "      <th>Salary</th>\n",
       "    </tr>\n",
       "  </thead>\n",
       "  <tbody>\n",
       "    <tr>\n",
       "      <th>7</th>\n",
       "      <td>United States</td>\n",
       "      <td>Bachelor’s degree (B.A., B.S., B.Eng., etc.)</td>\n",
       "      <td>13</td>\n",
       "      <td>116000.0</td>\n",
       "    </tr>\n",
       "    <tr>\n",
       "      <th>9</th>\n",
       "      <td>United Kingdom</td>\n",
       "      <td>Master’s degree (M.A., M.S., M.Eng., MBA, etc.)</td>\n",
       "      <td>4</td>\n",
       "      <td>32315.0</td>\n",
       "    </tr>\n",
       "    <tr>\n",
       "      <th>10</th>\n",
       "      <td>United Kingdom</td>\n",
       "      <td>Bachelor’s degree (B.A., B.S., B.Eng., etc.)</td>\n",
       "      <td>2</td>\n",
       "      <td>40070.0</td>\n",
       "    </tr>\n",
       "    <tr>\n",
       "      <th>11</th>\n",
       "      <td>Spain</td>\n",
       "      <td>Some college/university study without earning ...</td>\n",
       "      <td>7</td>\n",
       "      <td>14268.0</td>\n",
       "    </tr>\n",
       "    <tr>\n",
       "      <th>12</th>\n",
       "      <td>Netherlands</td>\n",
       "      <td>Secondary school (e.g. American high school, G...</td>\n",
       "      <td>20</td>\n",
       "      <td>38916.0</td>\n",
       "    </tr>\n",
       "  </tbody>\n",
       "</table>\n",
       "</div>"
      ],
      "text/plain": [
       "           Country                                            EdLevel  \\\n",
       "7    United States       Bachelor’s degree (B.A., B.S., B.Eng., etc.)   \n",
       "9   United Kingdom    Master’s degree (M.A., M.S., M.Eng., MBA, etc.)   \n",
       "10  United Kingdom       Bachelor’s degree (B.A., B.S., B.Eng., etc.)   \n",
       "11           Spain  Some college/university study without earning ...   \n",
       "12     Netherlands  Secondary school (e.g. American high school, G...   \n",
       "\n",
       "   Experience(Years)    Salary  \n",
       "7                 13  116000.0  \n",
       "9                  4   32315.0  \n",
       "10                 2   40070.0  \n",
       "11                 7   14268.0  \n",
       "12                20   38916.0  "
      ]
     },
     "execution_count": 14,
     "metadata": {},
     "output_type": "execute_result"
    }
   ],
   "source": [
    "data.head()"
   ]
  },
  {
   "cell_type": "markdown",
   "id": "a38b5f5a-d228-45fc-80b1-7e126bd0455e",
   "metadata": {},
   "source": [
    "### Data Cleaning[Country]"
   ]
  },
  {
   "cell_type": "code",
   "execution_count": 15,
   "id": "2e245009-6e01-4d2a-bd2c-a7a952a5a199",
   "metadata": {},
   "outputs": [
    {
     "data": {
      "text/plain": [
       "Country\n",
       "United States     7628\n",
       "India             2514\n",
       "United Kingdom    2317\n",
       "Germany           1994\n",
       "Canada            1225\n",
       "                  ... \n",
       "Benin                1\n",
       "Fiji                 1\n",
       "San Marino           1\n",
       "Guinea               1\n",
       "Andorra              1\n",
       "Name: count, Length: 154, dtype: int64"
      ]
     },
     "execution_count": 15,
     "metadata": {},
     "output_type": "execute_result"
    }
   ],
   "source": [
    "data[\"Country\"].value_counts()"
   ]
  },
  {
   "cell_type": "code",
   "execution_count": 16,
   "id": "31c4ee26-3da5-4c0c-be87-6c4122330142",
   "metadata": {},
   "outputs": [],
   "source": [
    "def clean_country(country_value_counts, cutoff):\n",
    "    categorical_map = {}\n",
    "    for i in range(len(country_value_counts)):\n",
    "        if country_value_counts.values[i] >= cutoff:\n",
    "            categorical_map[country_value_counts.index[i]] = country_value_counts.index[i]\n",
    "        else:\n",
    "            categorical_map[country_value_counts.index[i]] = \"Other\"\n",
    "    return categorical_map\n",
    "\n",
    "# Call the value_counts method and pass its result to the function\n",
    "country_map = clean_country(data['Country'].value_counts(), 400)\n",
    "data['Country'] = data['Country'].map(country_map)"
   ]
  },
  {
   "cell_type": "code",
   "execution_count": 17,
   "id": "2572bf31-3f4c-4b2d-8762-ac6309062b64",
   "metadata": {},
   "outputs": [
    {
     "data": {
      "text/plain": [
       "Country\n",
       "Other                 8717\n",
       "United States         7628\n",
       "India                 2514\n",
       "United Kingdom        2317\n",
       "Germany               1994\n",
       "Canada                1225\n",
       "Brazil                1005\n",
       "France                 991\n",
       "Spain                  685\n",
       "Australia              676\n",
       "Netherlands            663\n",
       "Poland                 571\n",
       "Italy                  562\n",
       "Russian Federation     538\n",
       "Sweden                 522\n",
       "Name: count, dtype: int64"
      ]
     },
     "execution_count": 17,
     "metadata": {},
     "output_type": "execute_result"
    }
   ],
   "source": [
    "data[\"Country\"].value_counts()"
   ]
  },
  {
   "cell_type": "markdown",
   "id": "c18baa78-1ea4-4b93-bab0-76aac9bfb9fe",
   "metadata": {},
   "source": [
    "### Data Cleaning[EdLevel]"
   ]
  },
  {
   "cell_type": "code",
   "execution_count": 18,
   "id": "072300fd-2b51-4e51-b874-6acfedd02aa0",
   "metadata": {},
   "outputs": [
    {
     "data": {
      "text/plain": [
       "EdLevel\n",
       "Bachelor’s degree (B.A., B.S., B.Eng., etc.)                                          15229\n",
       "Master’s degree (M.A., M.S., M.Eng., MBA, etc.)                                        7655\n",
       "Some college/university study without earning a degree                                 3364\n",
       "Secondary school (e.g. American high school, German Realschule or Gymnasium, etc.)     1160\n",
       "Other doctoral degree (Ph.D., Ed.D., etc.)                                             1032\n",
       "Associate degree (A.A., A.S., etc.)                                                    1025\n",
       "Professional degree (JD, MD, etc.)                                                      423\n",
       "I never completed any formal education                                                  121\n",
       "Primary/elementary school                                                               118\n",
       "Name: count, dtype: int64"
      ]
     },
     "execution_count": 18,
     "metadata": {},
     "output_type": "execute_result"
    }
   ],
   "source": [
    "data[\"EdLevel\"].value_counts()"
   ]
  },
  {
   "cell_type": "code",
   "execution_count": 19,
   "id": "33ac997e-c436-4322-8aec-5a5bd3f5ea24",
   "metadata": {},
   "outputs": [
    {
     "data": {
      "text/plain": [
       "Country               object\n",
       "EdLevel               object\n",
       "Experience(Years)     object\n",
       "Salary               float64\n",
       "dtype: object"
      ]
     },
     "execution_count": 19,
     "metadata": {},
     "output_type": "execute_result"
    }
   ],
   "source": [
    "data.dtypes"
   ]
  },
  {
   "cell_type": "code",
   "execution_count": 20,
   "id": "e466022e-faf2-40e4-b4c0-27e5f9683a8e",
   "metadata": {},
   "outputs": [
    {
     "name": "stdout",
     "output_type": "stream",
     "text": [
      "EdLevel\n",
      "Bachelors Degree                 15229\n",
      "Master's Degree                   7655\n",
      "Less than a Bachelor's Degree     5244\n",
      "Post Graduate                     2480\n",
      "Name: count, dtype: int64\n"
     ]
    }
   ],
   "source": [
    "def clean_education(x):\n",
    "    if pd.isnull(x):\n",
    "        return \"Less than a Bachelor's Degree\"  # Or any other appropriate value for NaN\n",
    "    elif \"Bachelor’s degree\" in x:\n",
    "        return \"Bachelors Degree\"\n",
    "    elif \"Master’s degree\" in  x: \n",
    "        return \"Master's Degree\"\n",
    "    elif \"doctoral degree\" in x:\n",
    "        return \"Post Graduate\"\n",
    "    elif \"Associate degree\" in x:\n",
    "        return \"Post Graduate\"\n",
    "    elif \"Professional degree\" in x:\n",
    "        return \"Post Graduate\"\n",
    "    else:\n",
    "        return \"Less than a Bachelor's Degree\"\n",
    "\n",
    "data[\"EdLevel\"] = data[\"EdLevel\"].apply(clean_education)\n",
    "print(data[\"EdLevel\"].value_counts())"
   ]
  },
  {
   "cell_type": "markdown",
   "id": "8146e101-05e8-4c23-b752-4ae1ec6b6dd8",
   "metadata": {},
   "source": [
    "### Data Cleaning[Experience(Years)]"
   ]
  },
  {
   "cell_type": "code",
   "execution_count": 21,
   "id": "b446a5c5-162f-4957-b8b8-804bda797d39",
   "metadata": {},
   "outputs": [
    {
     "data": {
      "text/plain": [
       "Experience(Years)\n",
       "3                     3263\n",
       "2                     3163\n",
       "5                     2720\n",
       "4                     2507\n",
       "6                     1987\n",
       "10                    1802\n",
       "1                     1735\n",
       "7                     1587\n",
       "8                     1554\n",
       "Less than 1 year      1237\n",
       "12                     972\n",
       "15                     961\n",
       "9                      864\n",
       "20                     862\n",
       "11                     683\n",
       "13                     629\n",
       "14                     496\n",
       "16                     408\n",
       "25                     331\n",
       "18                     322\n",
       "17                     295\n",
       "22                     276\n",
       "19                     245\n",
       "21                     239\n",
       "23                     208\n",
       "30                     183\n",
       "24                     148\n",
       "26                     108\n",
       "27                      93\n",
       "35                      85\n",
       "28                      77\n",
       "32                      56\n",
       "33                      50\n",
       "31                      48\n",
       "29                      45\n",
       "34                      44\n",
       "38                      41\n",
       "40                      39\n",
       "36                      27\n",
       "37                      25\n",
       "39                      24\n",
       "More than 50 years      12\n",
       "42                      12\n",
       "41                      10\n",
       "45                       6\n",
       "43                       4\n",
       "44                       3\n",
       "50                       2\n",
       "47                       2\n",
       "49                       1\n",
       "46                       1\n",
       "Name: count, dtype: int64"
      ]
     },
     "execution_count": 21,
     "metadata": {},
     "output_type": "execute_result"
    }
   ],
   "source": [
    "data[\"Experience(Years)\"].value_counts()"
   ]
  },
  {
   "cell_type": "code",
   "execution_count": 22,
   "id": "20b87e4f-5959-4430-88db-da9e9dc65a30",
   "metadata": {},
   "outputs": [],
   "source": [
    "data[\"Experience(Years)\"]=data[\"Experience(Years)\"].replace({\"Less than 1 year\":\"1\",\"More than 50 years\":\"50\"})"
   ]
  },
  {
   "cell_type": "code",
   "execution_count": 23,
   "id": "9105c3c0-16be-4004-b470-6f18c2b0e5c6",
   "metadata": {},
   "outputs": [
    {
     "data": {
      "text/plain": [
       "Experience(Years)\n",
       "3     3263\n",
       "2     3163\n",
       "1     2972\n",
       "5     2720\n",
       "4     2507\n",
       "6     1987\n",
       "10    1802\n",
       "7     1587\n",
       "8     1554\n",
       "12     972\n",
       "15     961\n",
       "9      864\n",
       "20     862\n",
       "11     683\n",
       "13     629\n",
       "14     496\n",
       "16     408\n",
       "25     331\n",
       "18     322\n",
       "17     295\n",
       "22     276\n",
       "19     245\n",
       "21     239\n",
       "23     208\n",
       "30     183\n",
       "24     148\n",
       "26     108\n",
       "27      93\n",
       "35      85\n",
       "28      77\n",
       "32      56\n",
       "33      50\n",
       "31      48\n",
       "29      45\n",
       "34      44\n",
       "38      41\n",
       "40      39\n",
       "36      27\n",
       "37      25\n",
       "39      24\n",
       "50      14\n",
       "42      12\n",
       "41      10\n",
       "45       6\n",
       "43       4\n",
       "44       3\n",
       "47       2\n",
       "49       1\n",
       "46       1\n",
       "Name: count, dtype: int64"
      ]
     },
     "execution_count": 23,
     "metadata": {},
     "output_type": "execute_result"
    }
   ],
   "source": [
    "data[\"Experience(Years)\"].value_counts()"
   ]
  },
  {
   "cell_type": "code",
   "execution_count": 24,
   "id": "35067315-f0ae-40a4-808e-8badb153fe09",
   "metadata": {},
   "outputs": [],
   "source": [
    "data[\"Experience(Years)\"]=data[\"Experience(Years)\"].astype(float)"
   ]
  },
  {
   "cell_type": "code",
   "execution_count": 25,
   "id": "fa2ef42b-0abd-4c4a-b6be-269f698246f0",
   "metadata": {},
   "outputs": [
    {
     "data": {
      "text/plain": [
       "Country               object\n",
       "EdLevel               object\n",
       "Experience(Years)    float64\n",
       "Salary               float64\n",
       "dtype: object"
      ]
     },
     "execution_count": 25,
     "metadata": {},
     "output_type": "execute_result"
    }
   ],
   "source": [
    "data.dtypes"
   ]
  },
  {
   "cell_type": "markdown",
   "id": "1c2f2d3c-e1d1-407b-acbe-bc329ed3182d",
   "metadata": {},
   "source": [
    "### Data Cleaning[Salary]"
   ]
  },
  {
   "cell_type": "code",
   "execution_count": 29,
   "id": "baca30f9-d4d7-404a-a72e-612df3122d7c",
   "metadata": {},
   "outputs": [
    {
     "data": {
      "text/plain": [
       "<Axes: xlabel='Salary', ylabel='Country'>"
      ]
     },
     "execution_count": 29,
     "metadata": {},
     "output_type": "execute_result"
    },
    {
     "data": {
      "image/png": "[encoded data removed]",
      "text/plain": [
       "<Figure size 640x480 with 1 Axes>"
      ]
     },
     "metadata": {},
     "output_type": "display_data"
    }
   ],
   "source": [
    "sns.barplot(x=\"Salary\",y=\"Country\",data=data)"
   ]
  },
  {
   "cell_type": "code",
   "execution_count": 30,
   "id": "80b07ed1-fc86-4c96-865d-7cbba0fb470e",
   "metadata": {},
   "outputs": [],
   "source": [
    "data=data[data[\"Salary\"]>=10000]\n",
    "data=data[data[\"Salary\"]<=250000]"
   ]
  },
  {
   "cell_type": "code",
   "execution_count": 31,
   "id": "d78b2435-a1a5-4435-a262-de1a08281459",
   "metadata": {},
   "outputs": [],
   "source": [
    "data=data[data[\"Country\"]!=\"Other\"]"
   ]
  },
  {
   "cell_type": "code",
   "execution_count": 35,
   "id": "59a18265-e6b6-44b6-b594-33b1f2beb4ba",
   "metadata": {},
   "outputs": [],
   "source": [
    "data2=data.to_csv(\"survey_results_public(Filtered).csv\",index=None)"
   ]
  },
  {
   "cell_type": "code",
   "execution_count": null,
   "id": "e9d507bb-2897-459a-b771-f32e349c1b06",
   "metadata": {},
   "outputs": [],
   "source": []
  }
 ],
 "metadata": {
  "kernelspec": {
   "display_name": "Python 3 (ipykernel)",
   "language": "python",
   "name": "python3"
  },
  "language_info": {
   "codemirror_mode": {
    "name": "ipython",
    "version": 3
   },
   "file_extension": ".py",
   "mimetype": "text/x-python",
   "name": "python",
   "nbconvert_exporter": "python",
   "pygments_lexer": "ipython3",
   "version": "3.11.7"
  }
 },
 "nbformat": 4,
 "nbformat_minor": 5
}
